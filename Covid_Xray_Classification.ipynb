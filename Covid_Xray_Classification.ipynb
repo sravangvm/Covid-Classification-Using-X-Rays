{
  "nbformat": 4,
  "nbformat_minor": 0,
  "metadata": {
    "colab": {
      "name": "Covid Xray Classification.ipynb",
      "provenance": [],
      "collapsed_sections": [],
      "mount_file_id": "1bqJx4gMTQFrcgNZcMOcv8HgDJawzW0n3",
      "authorship_tag": "ABX9TyP0jhZU/qg80k06SDKkTTPc",
      "include_colab_link": true
    },
    "kernelspec": {
      "name": "python3",
      "display_name": "Python 3"
    },
    "language_info": {
      "name": "python"
    },
    "accelerator": "GPU",
    "gpuClass": "standard"
  },
  "cells": [
    {
      "cell_type": "markdown",
      "metadata": {
        "id": "view-in-github",
        "colab_type": "text"
      },
      "source": [
        "<a href=\"https://colab.research.google.com/github/sravangvm/Covid-Classification-and-Segmentation-Using-X-Rays/blob/main/Covid_Xray_Classification.ipynb\" target=\"_parent\"><img src=\"https://colab.research.google.com/assets/colab-badge.svg\" alt=\"Open In Colab\"/></a>"
      ]
    },
    {
      "cell_type": "code",
      "execution_count": null,
      "metadata": {
        "id": "yW1hKezS-Ziv"
      },
      "outputs": [],
      "source": [
        "! pip install kaggle"
      ]
    },
    {
      "cell_type": "code",
      "source": [
        "! cp kaggle.json ~/.kaggle/"
      ],
      "metadata": {
        "id": "JUAvxvK_X-45"
      },
      "execution_count": 20,
      "outputs": []
    },
    {
      "cell_type": "code",
      "source": [
        "! chmod 600 ~/.kaggle/kaggle.json"
      ],
      "metadata": {
        "id": "QJS0XjsR-xB2"
      },
      "execution_count": 22,
      "outputs": []
    },
    {
      "cell_type": "code",
      "source": [
        "!kaggle datasets download -d praveengovi/coronahack-chest-xraydataset"
      ],
      "metadata": {
        "colab": {
          "base_uri": "https://localhost:8080/"
        },
        "id": "ul9SXy6RFTzf",
        "outputId": "2ae2db86-3acf-45d5-efaa-3c3736b31dca"
      },
      "execution_count": 23,
      "outputs": [
        {
          "output_type": "stream",
          "name": "stdout",
          "text": [
            "Downloading coronahack-chest-xraydataset.zip to /content\n",
            " 99% 1.18G/1.19G [00:36<00:00, 51.9MB/s]\n",
            "100% 1.19G/1.19G [00:36<00:00, 34.7MB/s]\n"
          ]
        }
      ]
    },
    {
      "cell_type": "code",
      "source": [
        "from google.colab import drive\n",
        "drive.mount('/content/gdrive')"
      ],
      "metadata": {
        "colab": {
          "base_uri": "https://localhost:8080/"
        },
        "id": "F3Xg72axKpbO",
        "outputId": "b12a3842-1746-4a73-a62b-2c557910dd2b"
      },
      "execution_count": 24,
      "outputs": [
        {
          "output_type": "stream",
          "name": "stdout",
          "text": [
            "Mounted at /content/gdrive\n"
          ]
        }
      ]
    },
    {
      "cell_type": "code",
      "source": [
        "!wget https://github.com/ieee8023/covid-chestxray-dataset/blob/master/metadata.csv"
      ],
      "metadata": {
        "id": "k2ilnFYLLQPa"
      },
      "execution_count": null,
      "outputs": []
    },
    {
      "cell_type": "code",
      "source": [
        "!wget https://github.com/ieee8023/covid-chestxray-dataset/archive/refs/heads/master.zip"
      ],
      "metadata": {
        "id": "bgiDpn5rRCdi"
      },
      "execution_count": null,
      "outputs": []
    },
    {
      "cell_type": "code",
      "source": [
        "!unzip /content/coronahack-chest-xraydataset.zip"
      ],
      "metadata": {
        "id": "PJDjNhqUF5Is"
      },
      "execution_count": null,
      "outputs": []
    },
    {
      "cell_type": "code",
      "source": [
        "!unzip /content/master.zip"
      ],
      "metadata": {
        "id": "GlUSsrzdRIIe"
      },
      "execution_count": null,
      "outputs": []
    },
    {
      "cell_type": "code",
      "source": [
        "import pandas as pd\n",
        "import os\n",
        "import numpy as np\n",
        "\n",
        "datapath1='covid-chestxray-dataset-master'\n",
        "dataset_path='/content/gdrive/MyDrive/dataset'\n",
        "  \n",
        "categories=os.listdir(dataset_path)\n",
        "print(categories)\n",
        "\n",
        "dataset=pd.read_csv(os.path.join(datapath1,'metadata.csv'))\n",
        "findings=dataset['finding']\n",
        "image_names=dataset['filename']"
      ],
      "metadata": {
        "colab": {
          "base_uri": "https://localhost:8080/"
        },
        "id": "1kVkYcXOD1oi",
        "outputId": "090e5319-c08c-401d-d88a-f8a54869e154"
      },
      "execution_count": 29,
      "outputs": [
        {
          "output_type": "stream",
          "name": "stdout",
          "text": [
            "['Covid19 Negative', 'Covid19 Positive']\n"
          ]
        }
      ]
    },
    {
      "cell_type": "code",
      "source": [
        "positives_index=np.concatenate((np.where(findings=='COVID-19')[0],np.where(findings=='SARS')[0]))\n",
        "positive_image_names=image_names[positives_index]\n",
        "import cv2\n",
        "\n",
        "for positive_image_name in positive_image_names:\n",
        "    image=cv2.imread(os.path.join(datapath1,'images',positive_image_name))\n",
        "    try:\n",
        "        cv2.imwrite(os.path.join(dataset_path,categories[1],positive_image_name),image)\n",
        "    except Exception as e:\n",
        "        print(e)"
      ],
      "metadata": {
        "id": "Q-9FzHH2PPWQ"
      },
      "execution_count": 30,
      "outputs": []
    },
    {
      "cell_type": "code",
      "source": [
        "dataset=pd.read_csv(\"/content/Chest_xray_Corona_Metadata.csv\")\n",
        "findings=dataset['Label']\n",
        "image_names=dataset['X_ray_image_name']"
      ],
      "metadata": {
        "id": "XWv3Ccx6Ruu8"
      },
      "execution_count": 31,
      "outputs": []
    },
    {
      "cell_type": "code",
      "source": [
        "negative_index=np.where(findings=='Normal')[0]\n",
        "negative_image_names=image_names[negative_index]\n",
        "for negative_image_name in negative_image_names:\n",
        "    image=cv2.imread(os.path.join('images',negative_image_name))\n",
        "    try:\n",
        "        cv2.imwrite(os.path.join(dataset_path,categories[0],negative_image_name),image)\n",
        "    except Exception as e:\n",
        "        print(e)\n",
        "      "
      ],
      "metadata": {
        "id": "z3TO3ip5Sy8r"
      },
      "execution_count": null,
      "outputs": []
    },
    {
      "cell_type": "code",
      "source": [
        "import cv2,os\n",
        "\n",
        "data_path='/content/gdrive/MyDrive/dataset'\n",
        "categories=os.listdir(data_path)\n",
        "labels=[i for i in range(len(categories))]\n",
        "\n",
        "label_dict=dict(zip(categories,labels)) #empty dictionary\n",
        "\n",
        "print(label_dict)\n",
        "print(categories)\n",
        "print(labels)"
      ],
      "metadata": {
        "colab": {
          "base_uri": "https://localhost:8080/"
        },
        "id": "ILeqgGbtTNVL",
        "outputId": "17093485-b085-466e-cf27-1309d07d638b"
      },
      "execution_count": 33,
      "outputs": [
        {
          "output_type": "stream",
          "name": "stdout",
          "text": [
            "{'Covid19 Negative': 0, 'Covid19 Positive': 1}\n",
            "['Covid19 Negative', 'Covid19 Positive']\n",
            "[0, 1]\n"
          ]
        }
      ]
    },
    {
      "cell_type": "code",
      "source": [
        "img_size=100\n",
        "data=[]\n",
        "target=[]\n",
        "for category in categories:\n",
        "    folder_path=os.path.join(data_path,category)\n",
        "    img_names=os.listdir(folder_path)\n",
        "        \n",
        "    for img_name in img_names:\n",
        "        img_path=os.path.join(folder_path,img_name)\n",
        "        img=cv2.imread(img_path)\n",
        "\n",
        "        try:\n",
        "            gray=cv2.cvtColor(img,cv2.COLOR_BGR2GRAY)           \n",
        "            #Coverting the image into gray scale\n",
        "            resized=cv2.resize(gray,(img_size,img_size))\n",
        "            #resizing the gray scale into 100x100, since we need a fixed common size for all the images in the dataset\n",
        "            data.append(resized)\n",
        "            target.append(label_dict[category])\n",
        "            #appending the image and the label(categorized) into the list (dataset)\n",
        "\n",
        "        except Exception as e:\n",
        "            print('Exception:',e)\n",
        "            #if any exception rasied, the exception will be printed here. And pass to the next image"
      ],
      "metadata": {
        "id": "QzEOiVbvTUX2"
      },
      "execution_count": null,
      "outputs": []
    },
    {
      "cell_type": "code",
      "source": [
        "import numpy as np\n",
        "\n",
        "data=np.array(data)/255.0\n",
        "data=np.reshape(data,(data.shape[0],img_size,img_size,1))\n",
        "target=np.array(target)\n",
        "\n",
        "from keras.utils import np_utils\n",
        "\n",
        "new_target=np_utils.to_categorical(target)\n",
        "np.save('data',data)\n",
        "np.save('target',new_target)"
      ],
      "metadata": {
        "id": "jIkZrccgTidu"
      },
      "execution_count": 35,
      "outputs": []
    },
    {
      "cell_type": "code",
      "source": [
        "data=np.load('data.npy')\n",
        "target=np.load('target.npy')"
      ],
      "metadata": {
        "id": "7dv35vtfTnhC"
      },
      "execution_count": 36,
      "outputs": []
    },
    {
      "cell_type": "code",
      "source": [
        "from keras.models import Sequential\n",
        "from keras.layers import Dense,Activation,Flatten\n",
        "from keras.layers import Conv2D,MaxPooling2D,Dropout\n",
        "\n",
        "model=Sequential()\n",
        "\n",
        "model.add(Conv2D(64,(3,3),input_shape=(100,100,1)))\n",
        "model.add(Activation('relu'))\n",
        "model.add(MaxPooling2D(pool_size=(2,2)))\n",
        "#The first CNN layer followed by Relu and MaxPooling layers\n",
        "\n",
        "model.add(Conv2D(32,(3,3)))\n",
        "model.add(Activation('relu'))\n",
        "model.add(MaxPooling2D(pool_size=(2,2)))\n",
        "#The second convolution layer followed by Relu and MaxPooling layers\n",
        "\n",
        "model.add(Flatten())\n",
        "#Flatten layer to stack the output convolutions from second convolution layer\n",
        "model.add(Dropout(0.5))\n",
        "model.add(Dense(1000,activation='relu'))\n",
        "model.add(Dropout(0.5))\n",
        "model.add(Dense(128,activation='relu'))\n",
        "model.add(Dropout(0.5))\n",
        "model.add(Dense(64,activation='relu'))\n",
        "#Dense layer of 64 neurons\n",
        "model.add(Dense(2,activation='softmax'))\n",
        "#The Final layer with two outputs for two categories\n",
        "\n",
        "model.compile(loss='categorical_crossentropy',optimizer='adam',metrics=['accuracy'])"
      ],
      "metadata": {
        "id": "x2o0LN9GTy1K"
      },
      "execution_count": 37,
      "outputs": []
    },
    {
      "cell_type": "code",
      "source": [
        "from sklearn.model_selection import train_test_split\n",
        "\n",
        "train_data,test_data,train_target,test_target=train_test_split(data,target,test_size=0.1)"
      ],
      "metadata": {
        "id": "ku0NYMpuT0rK"
      },
      "execution_count": 38,
      "outputs": []
    },
    {
      "cell_type": "code",
      "source": [
        "from keras.callbacks import *\n",
        "checkpoint = ModelCheckpoint('model-{epoch:03d}.h5',monitor='val_loss',verbose=0,save_best_only=True,mode='auto',save_weights_only=True)\n",
        "history=model.fit(train_data,train_target,epochs=20,callbacks=[checkpoint],validation_split=0.1)"
      ],
      "metadata": {
        "colab": {
          "base_uri": "https://localhost:8080/"
        },
        "id": "mu4bT5-dT3Hm",
        "outputId": "e2575caa-f28f-4046-950b-e742388a8412"
      },
      "execution_count": 39,
      "outputs": [
        {
          "output_type": "stream",
          "name": "stdout",
          "text": [
            "Epoch 1/20\n",
            "18/18 [==============================] - 13s 55ms/step - loss: 0.5974 - accuracy: 0.7731 - val_loss: 0.5443 - val_accuracy: 0.7903\n",
            "Epoch 2/20\n",
            "18/18 [==============================] - 0s 28ms/step - loss: 0.5092 - accuracy: 0.7895 - val_loss: 0.4020 - val_accuracy: 0.8226\n",
            "Epoch 3/20\n",
            "18/18 [==============================] - 1s 28ms/step - loss: 0.4478 - accuracy: 0.8367 - val_loss: 0.3014 - val_accuracy: 0.8871\n",
            "Epoch 4/20\n",
            "18/18 [==============================] - 1s 31ms/step - loss: 0.4002 - accuracy: 0.8730 - val_loss: 0.2884 - val_accuracy: 0.9355\n",
            "Epoch 5/20\n",
            "18/18 [==============================] - 0s 28ms/step - loss: 0.3606 - accuracy: 0.8929 - val_loss: 0.2648 - val_accuracy: 0.9194\n",
            "Epoch 6/20\n",
            "18/18 [==============================] - 1s 30ms/step - loss: 0.4165 - accuracy: 0.8639 - val_loss: 0.2413 - val_accuracy: 0.9194\n",
            "Epoch 7/20\n",
            "18/18 [==============================] - 0s 20ms/step - loss: 0.3889 - accuracy: 0.8766 - val_loss: 0.3585 - val_accuracy: 0.8548\n",
            "Epoch 8/20\n",
            "18/18 [==============================] - 0s 20ms/step - loss: 0.3789 - accuracy: 0.8784 - val_loss: 0.2605 - val_accuracy: 0.9516\n",
            "Epoch 9/20\n",
            "18/18 [==============================] - 0s 20ms/step - loss: 0.3358 - accuracy: 0.8911 - val_loss: 0.2431 - val_accuracy: 0.9516\n",
            "Epoch 10/20\n",
            "18/18 [==============================] - 1s 28ms/step - loss: 0.3036 - accuracy: 0.8966 - val_loss: 0.2382 - val_accuracy: 0.9032\n",
            "Epoch 11/20\n",
            "18/18 [==============================] - 1s 30ms/step - loss: 0.3262 - accuracy: 0.8893 - val_loss: 0.2178 - val_accuracy: 0.9355\n",
            "Epoch 12/20\n",
            "18/18 [==============================] - 0s 20ms/step - loss: 0.2998 - accuracy: 0.8893 - val_loss: 0.2701 - val_accuracy: 0.9355\n",
            "Epoch 13/20\n",
            "18/18 [==============================] - 0s 20ms/step - loss: 0.2803 - accuracy: 0.9074 - val_loss: 0.2227 - val_accuracy: 0.9194\n",
            "Epoch 14/20\n",
            "18/18 [==============================] - 0s 20ms/step - loss: 0.2882 - accuracy: 0.8984 - val_loss: 0.2746 - val_accuracy: 0.9194\n",
            "Epoch 15/20\n",
            "18/18 [==============================] - 0s 20ms/step - loss: 0.2650 - accuracy: 0.9002 - val_loss: 0.2564 - val_accuracy: 0.9194\n",
            "Epoch 16/20\n",
            "18/18 [==============================] - 0s 20ms/step - loss: 0.2569 - accuracy: 0.9038 - val_loss: 0.2815 - val_accuracy: 0.9194\n",
            "Epoch 17/20\n",
            "18/18 [==============================] - 0s 20ms/step - loss: 0.2388 - accuracy: 0.9183 - val_loss: 0.3528 - val_accuracy: 0.9194\n",
            "Epoch 18/20\n",
            "18/18 [==============================] - 0s 19ms/step - loss: 0.2590 - accuracy: 0.8929 - val_loss: 0.2498 - val_accuracy: 0.9355\n",
            "Epoch 19/20\n",
            "18/18 [==============================] - 0s 20ms/step - loss: 0.2418 - accuracy: 0.9074 - val_loss: 0.3184 - val_accuracy: 0.9194\n",
            "Epoch 20/20\n",
            "18/18 [==============================] - 0s 19ms/step - loss: 0.2492 - accuracy: 0.8984 - val_loss: 0.2503 - val_accuracy: 0.9032\n"
          ]
        }
      ]
    },
    {
      "cell_type": "code",
      "source": [
        "from matplotlib import pyplot as plt\n",
        "\n",
        "plt.plot(history.history['loss'],'r',label='training loss')\n",
        "plt.plot(history.history['val_loss'],label='validation loss')\n",
        "plt.xlabel('# epochs')\n",
        "plt.ylabel('loss')\n",
        "plt.legend()\n",
        "plt.show()"
      ],
      "metadata": {
        "colab": {
          "base_uri": "https://localhost:8080/",
          "height": 279
        },
        "id": "Ytpzsna6bBn8",
        "outputId": "84fd8395-bc30-44a3-e4ab-c74b8b389594"
      },
      "execution_count": 40,
      "outputs": [
        {
          "output_type": "display_data",
          "data": {
            "text/plain": [
              "<Figure size 432x288 with 1 Axes>"
            ],
            "image/png": "[encoded data removed]"
          },
          "metadata": {
            "needs_background": "light"
          }
        }
      ]
    },
    {
      "cell_type": "code",
      "source": [
        "plt.plot(history.history['accuracy'],'r',label='training accuracy')\n",
        "plt.plot(history.history['val_accuracy'],label='validation accuracy')\n",
        "plt.xlabel('# epochs')\n",
        "plt.ylabel('loss')\n",
        "plt.legend()\n",
        "plt.show()"
      ],
      "metadata": {
        "colab": {
          "base_uri": "https://localhost:8080/",
          "height": 279
        },
        "id": "7Gnr09EhmLRP",
        "outputId": "eb247069-b110-4b63-c2fc-81ccb7053e35"
      },
      "execution_count": 41,
      "outputs": [
        {
          "output_type": "display_data",
          "data": {
            "text/plain": [
              "<Figure size 432x288 with 1 Axes>"
            ],
            "image/png": "[encoded data removed]"
          },
          "metadata": {
            "needs_background": "light"
          }
        }
      ]
    },
    {
      "cell_type": "code",
      "source": [
        "model.evaluate(test_data,test_target)"
      ],
      "metadata": {
        "colab": {
          "base_uri": "https://localhost:8080/"
        },
        "id": "4Qn9CWwhZIPa",
        "outputId": "08bf63eb-1018-4a1c-eac3-f11a0bdb6e1f"
      },
      "execution_count": 47,
      "outputs": [
        {
          "output_type": "stream",
          "name": "stdout",
          "text": [
            "3/3 [==============================] - 0s 10ms/step - loss: 0.2231 - accuracy: 0.9420\n"
          ]
        },
        {
          "output_type": "execute_result",
          "data": {
            "text/plain": [
              "[0.22310900688171387, 0.9420289993286133]"
            ]
          },
          "metadata": {},
          "execution_count": 47
        }
      ]
    },
    {
      "cell_type": "code",
      "source": [
        "model.save('model.h5')"
      ],
      "metadata": {
        "id": "lQ5c6RhLZ90l"
      },
      "execution_count": 51,
      "outputs": []
    },
    {
      "cell_type": "code",
      "source": [
        "from google.colab import files\n",
        "files.download(\"model.h5\")"
      ],
      "metadata": {
        "colab": {
          "base_uri": "https://localhost:8080/",
          "height": 17
        },
        "id": "ZJv51ujxaSvS",
        "outputId": "9af21e2e-4506-48c5-f4b7-8b05c5c0c02d"
      },
      "execution_count": 53,
      "outputs": [
        {
          "output_type": "display_data",
          "data": {
            "text/plain": [
              "<IPython.core.display.Javascript object>"
            ],
            "application/javascript": [
              "\n",
              "    async function download(id, filename, size) {\n",
              "      if (!google.colab.kernel.accessAllowed) {\n",
              "        return;\n",
              "      }\n",
              "      const div = document.createElement('div');\n",
              "      const label = document.createElement('label');\n",
              "      label.textContent = `Downloading \"${filename}\": `;\n",
              "      div.appendChild(label);\n",
              "      const progress = document.createElement('progress');\n",
              "      progress.max = size;\n",
              "      div.appendChild(progress);\n",
              "      document.body.appendChild(div);\n",
              "\n",
              "      const buffers = [];\n",
              "      let downloaded = 0;\n",
              "\n",
              "      const channel = await google.colab.kernel.comms.open(id);\n",
              "      // Send a message to notify the kernel that we're ready.\n",
              "      channel.send({})\n",
              "\n",
              "      for await (const message of channel.messages) {\n",
              "        // Send a message to notify the kernel that we're ready.\n",
              "        channel.send({})\n",
              "        if (message.buffers) {\n",
              "          for (const buffer of message.buffers) {\n",
              "            buffers.push(buffer);\n",
              "            downloaded += buffer.byteLength;\n",
              "            progress.value = downloaded;\n",
              "          }\n",
              "        }\n",
              "      }\n",
              "      const blob = new Blob(buffers, {type: 'application/binary'});\n",
              "      const a = document.createElement('a');\n",
              "      a.href = window.URL.createObjectURL(blob);\n",
              "      a.download = filename;\n",
              "      div.appendChild(a);\n",
              "      a.click();\n",
              "      div.remove();\n",
              "    }\n",
              "  "
            ]
          },
          "metadata": {}
        },
        {
          "output_type": "display_data",
          "data": {
            "text/plain": [
              "<IPython.core.display.Javascript object>"
            ],
            "application/javascript": [
              "download(\"download_3bbc1d91-5ee9-4fb8-a9c0-b328917e327b\", \"model.h5\", 205081992)"
            ]
          },
          "metadata": {}
        }
      ]
    }
  ]
}