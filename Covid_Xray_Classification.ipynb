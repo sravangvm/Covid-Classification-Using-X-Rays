{
  "nbformat": 4,
  "nbformat_minor": 0,
  "metadata": {
    "colab": {
      "name": "Covid Xray Classification.ipynb",
      "provenance": [],
      "collapsed_sections": [],
      "mount_file_id": "1bqJx4gMTQFrcgNZcMOcv8HgDJawzW0n3",
      "authorship_tag": "ABX9TyM0QtTSBtSBzduec/SkU8Si",
      "include_colab_link": true
    },
    "kernelspec": {
      "name": "python3",
      "display_name": "Python 3"
    },
    "language_info": {
      "name": "python"
    },
    "accelerator": "GPU",
    "gpuClass": "standard"
  },
  "cells": [
    {
      "cell_type": "markdown",
      "metadata": {
        "id": "view-in-github",
        "colab_type": "text"
      },
      "source": [
        "<a href=\"https://colab.research.google.com/github/sravangvm/Covid-Classification-and-Segmentation-Using-X-Rays/blob/main/Covid_Xray_Classification.ipynb\" target=\"_parent\"><img src=\"https://colab.research.google.com/assets/colab-badge.svg\" alt=\"Open In Colab\"/></a>"
      ]
    },
    {
      "cell_type": "code",
      "execution_count": 24,
      "metadata": {
        "id": "yW1hKezS-Ziv",
        "colab": {
          "base_uri": "https://localhost:8080/"
        },
        "outputId": "e4c2a354-5463-4fbb-dd95-286893b8038d"
      },
      "outputs": [
        {
          "output_type": "stream",
          "name": "stdout",
          "text": [
            "Looking in indexes: https://pypi.org/simple, https://us-python.pkg.dev/colab-wheels/public/simple/\n",
            "Requirement already satisfied: kaggle in /usr/local/lib/python3.7/dist-packages (1.5.12)\n",
            "Requirement already satisfied: tqdm in /usr/local/lib/python3.7/dist-packages (from kaggle) (4.64.0)\n",
            "Requirement already satisfied: python-dateutil in /usr/local/lib/python3.7/dist-packages (from kaggle) (2.8.2)\n",
            "Requirement already satisfied: six>=1.10 in /usr/local/lib/python3.7/dist-packages (from kaggle) (1.15.0)\n",
            "Requirement already satisfied: python-slugify in /usr/local/lib/python3.7/dist-packages (from kaggle) (6.1.2)\n",
            "Requirement already satisfied: requests in /usr/local/lib/python3.7/dist-packages (from kaggle) (2.23.0)\n",
            "Requirement already satisfied: urllib3 in /usr/local/lib/python3.7/dist-packages (from kaggle) (1.24.3)\n",
            "Requirement already satisfied: certifi in /usr/local/lib/python3.7/dist-packages (from kaggle) (2022.5.18.1)\n",
            "Requirement already satisfied: text-unidecode>=1.3 in /usr/local/lib/python3.7/dist-packages (from python-slugify->kaggle) (1.3)\n",
            "Requirement already satisfied: idna<3,>=2.5 in /usr/local/lib/python3.7/dist-packages (from requests->kaggle) (2.10)\n",
            "Requirement already satisfied: chardet<4,>=3.0.2 in /usr/local/lib/python3.7/dist-packages (from requests->kaggle) (3.0.4)\n"
          ]
        }
      ],
      "source": [
        "! pip install kaggle\n",
        "! cp kaggle.json ~/.kaggle/"
      ]
    },
    {
      "cell_type": "code",
      "source": [
        "! chmod 600 ~/.kaggle/kaggle.json"
      ],
      "metadata": {
        "id": "QJS0XjsR-xB2"
      },
      "execution_count": 25,
      "outputs": []
    },
    {
      "cell_type": "code",
      "source": [
        "!kaggle datasets download -d praveengovi/coronahack-chest-xraydataset"
      ],
      "metadata": {
        "colab": {
          "base_uri": "https://localhost:8080/"
        },
        "id": "ul9SXy6RFTzf",
        "outputId": "19de15de-432e-429d-960f-5afb09b85932"
      },
      "execution_count": 26,
      "outputs": [
        {
          "output_type": "stream",
          "name": "stdout",
          "text": [
            "Downloading coronahack-chest-xraydataset.zip to /content\n",
            "100% 1.18G/1.19G [00:29<00:00, 59.7MB/s]\n",
            "100% 1.19G/1.19G [00:29<00:00, 42.8MB/s]\n"
          ]
        }
      ]
    },
    {
      "cell_type": "code",
      "source": [
        "from google.colab import drive\n",
        "drive.mount('/content/gdrive')"
      ],
      "metadata": {
        "colab": {
          "base_uri": "https://localhost:8080/"
        },
        "id": "F3Xg72axKpbO",
        "outputId": "1105e9c5-cfaf-4401-d1bb-1793cd8054c9"
      },
      "execution_count": 4,
      "outputs": [
        {
          "output_type": "stream",
          "name": "stdout",
          "text": [
            "Mounted at /content/gdrive\n"
          ]
        }
      ]
    },
    {
      "cell_type": "code",
      "source": [
        "!wget https://github.com/ieee8023/covid-chestxray-dataset/blob/master/metadata.csv"
      ],
      "metadata": {
        "id": "k2ilnFYLLQPa"
      },
      "execution_count": null,
      "outputs": []
    },
    {
      "cell_type": "code",
      "source": [
        "!wget https://github.com/ieee8023/covid-chestxray-dataset/archive/refs/heads/master.zip"
      ],
      "metadata": {
        "id": "bgiDpn5rRCdi"
      },
      "execution_count": null,
      "outputs": []
    },
    {
      "cell_type": "code",
      "source": [
        "!unzip /content/coronahack-chest-xraydataset.zip"
      ],
      "metadata": {
        "id": "PJDjNhqUF5Is"
      },
      "execution_count": null,
      "outputs": []
    },
    {
      "cell_type": "code",
      "source": [
        "!unzip /content/master.zip"
      ],
      "metadata": {
        "id": "GlUSsrzdRIIe"
      },
      "execution_count": null,
      "outputs": []
    },
    {
      "cell_type": "code",
      "source": [
        "import pandas as pd\n",
        "import os\n",
        "import numpy as np\n",
        "\n",
        "datapath1='covid-chestxray-dataset-master'\n",
        "dataset_path='/content/gdrive/MyDrive/dataset'\n",
        "  \n",
        "categories=os.listdir(dataset_path)\n",
        "print(categories)\n",
        "\n",
        "dataset=pd.read_csv(os.path.join(datapath1,'metadata.csv'))\n",
        "findings=dataset['finding']\n",
        "image_names=dataset['filename']"
      ],
      "metadata": {
        "colab": {
          "base_uri": "https://localhost:8080/"
        },
        "id": "1kVkYcXOD1oi",
        "outputId": "80140830-fc03-4c00-a4c3-6df57abc382f"
      },
      "execution_count": 39,
      "outputs": [
        {
          "output_type": "stream",
          "name": "stdout",
          "text": [
            "['Covid19 Negative', 'Covid19 Positive']\n"
          ]
        }
      ]
    },
    {
      "cell_type": "code",
      "source": [
        "positives_index=np.concatenate((np.where(findings=='COVID-19')[0],np.where(findings=='SARS')[0]))\n",
        "positive_image_names=image_names[positives_index]\n",
        "import cv2\n",
        "\n",
        "for positive_image_name in positive_image_names:\n",
        "    image=cv2.imread(os.path.join(datapath1,'images',positive_image_name))\n",
        "    try:\n",
        "        cv2.imwrite(os.path.join(dataset_path,categories[1],positive_image_name),image)\n",
        "    except Exception as e:\n",
        "        print(e)"
      ],
      "metadata": {
        "id": "Q-9FzHH2PPWQ"
      },
      "execution_count": 40,
      "outputs": []
    },
    {
      "cell_type": "code",
      "source": [
        "dataset=pd.read_csv(\"/content/Chest_xray_Corona_Metadata.csv\")\n",
        "findings=dataset['Label']\n",
        "image_names=dataset['X_ray_image_name']"
      ],
      "metadata": {
        "id": "XWv3Ccx6Ruu8"
      },
      "execution_count": 41,
      "outputs": []
    },
    {
      "cell_type": "code",
      "source": [
        "negative_index=np.where(findings=='Normal')[0]\n",
        "negative_image_names=image_names[negative_index]\n",
        "for negative_image_name in negative_image_names:\n",
        "    image=cv2.imread(os.path.join('images',negative_image_name))\n",
        "    try:\n",
        "        cv2.imwrite(os.path.join(dataset_path,categories[0],negative_image_name),image)\n",
        "    except Exception as e:\n",
        "        print(e)\n",
        "      "
      ],
      "metadata": {
        "id": "z3TO3ip5Sy8r"
      },
      "execution_count": null,
      "outputs": []
    },
    {
      "cell_type": "code",
      "source": [
        "import cv2,os\n",
        "\n",
        "data_path='/content/gdrive/MyDrive/dataset'\n",
        "categories=os.listdir(data_path)\n",
        "labels=[i for i in range(len(categories))]\n",
        "\n",
        "label_dict=dict(zip(categories,labels)) #empty dictionary\n",
        "\n",
        "print(label_dict)\n",
        "print(categories)\n",
        "print(labels)"
      ],
      "metadata": {
        "colab": {
          "base_uri": "https://localhost:8080/"
        },
        "id": "ILeqgGbtTNVL",
        "outputId": "4a6ec282-65ff-4bdb-938d-55856c1feb95"
      },
      "execution_count": 43,
      "outputs": [
        {
          "output_type": "stream",
          "name": "stdout",
          "text": [
            "{'Covid19 Negative': 0, 'Covid19 Positive': 1}\n",
            "['Covid19 Negative', 'Covid19 Positive']\n",
            "[0, 1]\n"
          ]
        }
      ]
    },
    {
      "cell_type": "code",
      "source": [
        "img_size=100\n",
        "data=[]\n",
        "target=[]\n",
        "for category in categories:\n",
        "    folder_path=os.path.join(data_path,category)\n",
        "    img_names=os.listdir(folder_path)\n",
        "        \n",
        "    for img_name in img_names:\n",
        "        img_path=os.path.join(folder_path,img_name)\n",
        "        img=cv2.imread(img_path)\n",
        "\n",
        "        try:\n",
        "            gray=cv2.cvtColor(img,cv2.COLOR_BGR2GRAY)           \n",
        "            #Coverting the image into gray scale\n",
        "            resized=cv2.resize(gray,(img_size,img_size))\n",
        "            #resizing the gray scale into 100x100, since we need a fixed common size for all the images in the dataset\n",
        "            data.append(resized)\n",
        "            target.append(label_dict[category])\n",
        "            #appending the image and the label(categorized) into the list (dataset)\n",
        "\n",
        "        except Exception as e:\n",
        "            print('Exception:',e)\n",
        "            #if any exception rasied, the exception will be printed here. And pass to the next image"
      ],
      "metadata": {
        "id": "QzEOiVbvTUX2"
      },
      "execution_count": null,
      "outputs": []
    },
    {
      "cell_type": "code",
      "source": [
        "import numpy as np\n",
        "\n",
        "data=np.array(data)/255.0\n",
        "data=np.reshape(data,(data.shape[0],img_size,img_size,1))\n",
        "target=np.array(target)\n",
        "\n",
        "from keras.utils import np_utils\n",
        "\n",
        "new_target=np_utils.to_categorical(target)\n",
        "np.save('data',data)\n",
        "np.save('target',new_target)"
      ],
      "metadata": {
        "id": "jIkZrccgTidu"
      },
      "execution_count": 45,
      "outputs": []
    },
    {
      "cell_type": "code",
      "source": [
        "data=np.load('data.npy')\n",
        "target=np.load('target.npy')"
      ],
      "metadata": {
        "id": "7dv35vtfTnhC"
      },
      "execution_count": 46,
      "outputs": []
    },
    {
      "cell_type": "code",
      "source": [
        "from keras.models import Sequential\n",
        "from keras.layers import Dense,Activation,Flatten\n",
        "from keras.layers import Conv2D,MaxPooling2D,Dropout\n",
        "\n",
        "model=Sequential()\n",
        "\n",
        "model.add(Conv2D(64,(3,3),input_shape=(100,100,1)))\n",
        "model.add(Activation('relu'))\n",
        "model.add(MaxPooling2D(pool_size=(2,2)))\n",
        "#The first CNN layer followed by Relu and MaxPooling layers\n",
        "\n",
        "model.add(Conv2D(32,(3,3)))\n",
        "model.add(Activation('relu'))\n",
        "model.add(MaxPooling2D(pool_size=(2,2)))\n",
        "#The second convolution layer followed by Relu and MaxPooling layers\n",
        "\n",
        "model.add(Flatten())\n",
        "#Flatten layer to stack the output convolutions from second convolution layer\n",
        "model.add(Dropout(0.5))\n",
        "model.add(Dense(1000,activation='relu'))\n",
        "model.add(Dropout(0.5))\n",
        "model.add(Dense(128,activation='relu'))\n",
        "model.add(Dropout(0.5))\n",
        "model.add(Dense(64,activation='relu'))\n",
        "#Dense layer of 64 neurons\n",
        "model.add(Dense(2,activation='softmax'))\n",
        "#The Final layer with two outputs for two categories\n",
        "\n",
        "model.compile(loss='categorical_crossentropy',optimizer='adam',metrics=['accuracy'])"
      ],
      "metadata": {
        "id": "x2o0LN9GTy1K"
      },
      "execution_count": 47,
      "outputs": []
    },
    {
      "cell_type": "code",
      "source": [
        "from sklearn.model_selection import train_test_split\n",
        "\n",
        "train_data,test_data,train_target,test_target=train_test_split(data,target,test_size=0.1)"
      ],
      "metadata": {
        "id": "ku0NYMpuT0rK"
      },
      "execution_count": 48,
      "outputs": []
    },
    {
      "cell_type": "code",
      "source": [
        "from keras.callbacks import *\n",
        "checkpoint = ModelCheckpoint('model-{epoch:03d}.h5',monitor='val_loss',verbose=0,save_best_only=True,mode='auto',save_weights_only=True)\n",
        "history=model.fit(train_data,train_target,epochs=20,callbacks=[checkpoint],validation_split=0.1)"
      ],
      "metadata": {
        "colab": {
          "base_uri": "https://localhost:8080/"
        },
        "id": "mu4bT5-dT3Hm",
        "outputId": "479ee464-1e1e-4551-f27c-d3fdb67d252d"
      },
      "execution_count": 49,
      "outputs": [
        {
          "output_type": "stream",
          "name": "stdout",
          "text": [
            "Epoch 1/20\n",
            "18/18 [==============================] - 1s 41ms/step - loss: 0.5681 - accuracy: 0.7532 - val_loss: 0.4556 - val_accuracy: 0.8226\n",
            "Epoch 2/20\n",
            "18/18 [==============================] - 0s 19ms/step - loss: 0.4453 - accuracy: 0.8058 - val_loss: 0.5096 - val_accuracy: 0.8871\n",
            "Epoch 3/20\n",
            "18/18 [==============================] - 0s 19ms/step - loss: 0.3911 - accuracy: 0.8820 - val_loss: 0.5010 - val_accuracy: 0.8065\n",
            "Epoch 4/20\n",
            "18/18 [==============================] - 0s 20ms/step - loss: 0.3723 - accuracy: 0.8838 - val_loss: 0.4789 - val_accuracy: 0.8710\n",
            "Epoch 5/20\n",
            "18/18 [==============================] - 0s 26ms/step - loss: 0.3740 - accuracy: 0.8711 - val_loss: 0.4170 - val_accuracy: 0.8710\n",
            "Epoch 6/20\n",
            "18/18 [==============================] - 0s 20ms/step - loss: 0.3228 - accuracy: 0.8857 - val_loss: 0.4577 - val_accuracy: 0.8548\n",
            "Epoch 7/20\n",
            "18/18 [==============================] - 1s 30ms/step - loss: 0.3227 - accuracy: 0.8929 - val_loss: 0.4078 - val_accuracy: 0.8871\n",
            "Epoch 8/20\n",
            "18/18 [==============================] - 0s 20ms/step - loss: 0.2978 - accuracy: 0.9093 - val_loss: 0.4467 - val_accuracy: 0.8710\n",
            "Epoch 9/20\n",
            "18/18 [==============================] - 0s 19ms/step - loss: 0.2668 - accuracy: 0.9111 - val_loss: 0.4642 - val_accuracy: 0.8387\n",
            "Epoch 10/20\n",
            "18/18 [==============================] - 0s 19ms/step - loss: 0.2572 - accuracy: 0.9147 - val_loss: 0.4100 - val_accuracy: 0.8710\n",
            "Epoch 11/20\n",
            "18/18 [==============================] - 0s 19ms/step - loss: 0.2509 - accuracy: 0.9220 - val_loss: 0.4255 - val_accuracy: 0.8548\n",
            "Epoch 12/20\n",
            "18/18 [==============================] - 0s 20ms/step - loss: 0.2371 - accuracy: 0.9111 - val_loss: 0.5129 - val_accuracy: 0.8710\n",
            "Epoch 13/20\n",
            "18/18 [==============================] - 0s 20ms/step - loss: 0.2635 - accuracy: 0.9147 - val_loss: 0.4728 - val_accuracy: 0.8548\n",
            "Epoch 14/20\n",
            "18/18 [==============================] - 0s 19ms/step - loss: 0.2433 - accuracy: 0.9201 - val_loss: 0.4479 - val_accuracy: 0.8548\n",
            "Epoch 15/20\n",
            "18/18 [==============================] - 0s 19ms/step - loss: 0.2311 - accuracy: 0.9165 - val_loss: 0.5239 - val_accuracy: 0.8710\n",
            "Epoch 16/20\n",
            "18/18 [==============================] - 0s 20ms/step - loss: 0.2298 - accuracy: 0.9238 - val_loss: 0.4720 - val_accuracy: 0.8548\n",
            "Epoch 17/20\n",
            "18/18 [==============================] - 0s 25ms/step - loss: 0.2280 - accuracy: 0.9147 - val_loss: 0.3933 - val_accuracy: 0.8710\n",
            "Epoch 18/20\n",
            "18/18 [==============================] - 0s 20ms/step - loss: 0.2396 - accuracy: 0.9183 - val_loss: 0.4109 - val_accuracy: 0.8387\n",
            "Epoch 19/20\n",
            "18/18 [==============================] - 0s 19ms/step - loss: 0.2262 - accuracy: 0.9183 - val_loss: 0.4353 - val_accuracy: 0.8548\n",
            "Epoch 20/20\n",
            "18/18 [==============================] - 0s 19ms/step - loss: 0.2124 - accuracy: 0.9220 - val_loss: 0.5106 - val_accuracy: 0.8710\n"
          ]
        }
      ]
    },
    {
      "cell_type": "code",
      "source": [
        "from matplotlib import pyplot as plt\n",
        "\n",
        "plt.plot(history.history['loss'],'r',label='training loss')\n",
        "plt.plot(history.history['val_loss'],label='validation loss')\n",
        "plt.xlabel('# epochs')\n",
        "plt.ylabel('loss')\n",
        "plt.legend()\n",
        "plt.show()"
      ],
      "metadata": {
        "colab": {
          "base_uri": "https://localhost:8080/",
          "height": 279
        },
        "id": "Ytpzsna6bBn8",
        "outputId": "5b2e8696-04fe-49ea-92cb-75d41cf237ba"
      },
      "execution_count": 50,
      "outputs": [
        {
          "output_type": "display_data",
          "data": {
            "text/plain": [
              "<Figure size 432x288 with 1 Axes>"
            ],
            "image/png": "[encoded data removed]"
          },
          "metadata": {
            "needs_background": "light"
          }
        }
      ]
    },
    {
      "cell_type": "code",
      "source": [
        "plt.plot(history.history['accuracy'],'r',label='training accuracy')\n",
        "plt.plot(history.history['val_accuracy'],label='validation accuracy')\n",
        "plt.xlabel('# epochs')\n",
        "plt.ylabel('loss')\n",
        "plt.legend()\n",
        "plt.show()"
      ],
      "metadata": {
        "colab": {
          "base_uri": "https://localhost:8080/",
          "height": 279
        },
        "id": "7Gnr09EhmLRP",
        "outputId": "2ec34184-3a96-4d15-f946-b52e3c4c3a95"
      },
      "execution_count": 51,
      "outputs": [
        {
          "output_type": "display_data",
          "data": {
            "text/plain": [
              "<Figure size 432x288 with 1 Axes>"
            ],
            "image/png": "[encoded data removed]"
          },
          "metadata": {
            "needs_background": "light"
          }
        }
      ]
    }
  ]
}