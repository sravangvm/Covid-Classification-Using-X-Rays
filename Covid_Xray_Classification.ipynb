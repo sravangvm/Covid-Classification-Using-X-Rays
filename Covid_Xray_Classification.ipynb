{
  "nbformat": 4,
  "nbformat_minor": 0,
  "metadata": {
    "colab": {
      "name": "Covid Xray Classification.ipynb",
      "provenance": [],
      "mount_file_id": "1bqJx4gMTQFrcgNZcMOcv8HgDJawzW0n3",
      "authorship_tag": "ABX9TyMH2g0h5t43+Vd9SR5yy1Ju",
      "include_colab_link": true
    },
    "kernelspec": {
      "name": "python3",
      "display_name": "Python 3"
    },
    "language_info": {
      "name": "python"
    },
    "accelerator": "GPU"
  },
  "cells": [
    {
      "cell_type": "markdown",
      "metadata": {
        "id": "view-in-github",
        "colab_type": "text"
      },
      "source": [
        "<a href=\"https://colab.research.google.com/github/sravangvm/Covid-Classification-Using-X-Rays/blob/main/Covid_Xray_Classification.ipynb\" target=\"_parent\"><img src=\"https://colab.research.google.com/assets/colab-badge.svg\" alt=\"Open In Colab\"/></a>"
      ]
    },
    {
      "cell_type": "code",
      "execution_count": null,
      "metadata": {
        "id": "yW1hKezS-Ziv"
      },
      "outputs": [],
      "source": [
        "! pip install kaggle\n",
        "! cp kaggle.json ~/.kaggle/"
      ]
    },
    {
      "cell_type": "code",
      "source": [
        "! chmod 600 ~/.kaggle/kaggle.json"
      ],
      "metadata": {
        "id": "QJS0XjsR-xB2"
      },
      "execution_count": null,
      "outputs": []
    },
    {
      "cell_type": "code",
      "source": [
        "!kaggle datasets download -d praveengovi/coronahack-chest-xraydataset"
      ],
      "metadata": {
        "colab": {
          "base_uri": "https://localhost:8080/"
        },
        "id": "ul9SXy6RFTzf",
        "outputId": "dd7ee635-71b6-4ec9-c8b9-f5bbc4c329f1"
      },
      "execution_count": null,
      "outputs": [
        {
          "output_type": "stream",
          "name": "stdout",
          "text": [
            "coronahack-chest-xraydataset.zip: Skipping, found more recently modified local copy (use --force to force download)\n"
          ]
        }
      ]
    },
    {
      "cell_type": "code",
      "source": [
        "from google.colab import drive\n",
        "drive.mount('/content/gdrive')"
      ],
      "metadata": {
        "colab": {
          "base_uri": "https://localhost:8080/"
        },
        "id": "F3Xg72axKpbO",
        "outputId": "783cfd7c-1b6e-42b4-e957-c36e10570a3d"
      },
      "execution_count": null,
      "outputs": [
        {
          "output_type": "stream",
          "name": "stdout",
          "text": [
            "Mounted at /content/gdrive\n"
          ]
        }
      ]
    },
    {
      "cell_type": "code",
      "source": [
        "!wget https://github.com/ieee8023/covid-chestxray-dataset/blob/master/metadata.csv"
      ],
      "metadata": {
        "id": "k2ilnFYLLQPa"
      },
      "execution_count": null,
      "outputs": []
    },
    {
      "cell_type": "code",
      "source": [
        "!wget https://github.com/ieee8023/covid-chestxray-dataset/archive/refs/heads/master.zip"
      ],
      "metadata": {
        "id": "bgiDpn5rRCdi"
      },
      "execution_count": null,
      "outputs": []
    },
    {
      "cell_type": "code",
      "source": [
        "!unzip /content/coronahack-chest-xraydataset.zip"
      ],
      "metadata": {
        "colab": {
          "base_uri": "https://localhost:8080/"
        },
        "id": "PJDjNhqUF5Is",
        "outputId": "35ad40e2-e9e4-4395-f5e9-4847af49f280"
      },
      "execution_count": null,
      "outputs": [
        {
          "output_type": "stream",
          "name": "stdout",
          "text": [
            "Archive:  /content/coronahack-chest-xraydataset.zip\n",
            "replace Chest_xray_Corona_Metadata.csv? [y]es, [n]o, [A]ll, [N]one, [r]ename: "
          ]
        }
      ]
    },
    {
      "cell_type": "code",
      "source": [
        "!unzip /content/master.zip"
      ],
      "metadata": {
        "colab": {
          "base_uri": "https://localhost:8080/"
        },
        "id": "GlUSsrzdRIIe",
        "outputId": "172c9b0b-ded2-40e4-ce78-3fde1197e8f6"
      },
      "execution_count": null,
      "outputs": [
        {
          "output_type": "stream",
          "name": "stdout",
          "text": [
            "Archive:  /content/master.zip\n",
            "78543292f8b01d5e0ed1d0e15dce71949f0657bb\n",
            "replace covid-chestxray-dataset-master/.github/FUNDING.yml? [y]es, [n]o, [A]ll, [N]one, [r]ename: "
          ]
        }
      ]
    },
    {
      "cell_type": "code",
      "source": [
        "import pandas as pd\n",
        "import os\n",
        "import numpy as np\n",
        "\n",
        "datapath1='covid-chestxray-dataset-master'\n",
        "dataset_path='/content/gdrive/MyDrive/dataset'\n",
        "  \n",
        "categories=os.listdir(dataset_path)\n",
        "print(categories)\n",
        "\n",
        "dataset=pd.read_csv(os.path.join(datapath1,'metadata.csv'))\n",
        "findings=dataset['finding']\n",
        "image_names=dataset['filename']"
      ],
      "metadata": {
        "colab": {
          "base_uri": "https://localhost:8080/"
        },
        "id": "1kVkYcXOD1oi",
        "outputId": "e5e5d623-7f6c-4f81-d9ed-cef73c92a880"
      },
      "execution_count": null,
      "outputs": [
        {
          "output_type": "stream",
          "name": "stdout",
          "text": [
            "['Covid19 Negative', 'Covid19 Positive']\n"
          ]
        }
      ]
    },
    {
      "cell_type": "code",
      "source": [
        "positives_index=np.concatenate((np.where(findings=='COVID-19')[0],np.where(findings=='SARS')[0]))\n",
        "positive_image_names=image_names[positives_index]\n",
        "import cv2\n",
        "\n",
        "for positive_image_name in positive_image_names:\n",
        "    image=cv2.imread(os.path.join(datapath1,'images',positive_image_name))\n",
        "    try:\n",
        "        cv2.imwrite(os.path.join(dataset_path,categories[1],positive_image_name),image)\n",
        "    except Exception as e:\n",
        "        print(e)"
      ],
      "metadata": {
        "id": "Q-9FzHH2PPWQ"
      },
      "execution_count": null,
      "outputs": []
    },
    {
      "cell_type": "code",
      "source": [
        "dataset=pd.read_csv(\"/content/Chest_xray_Corona_Metadata.csv\")\n",
        "findings=dataset['Label']\n",
        "image_names=dataset['X_ray_image_name']"
      ],
      "metadata": {
        "id": "XWv3Ccx6Ruu8"
      },
      "execution_count": null,
      "outputs": []
    },
    {
      "cell_type": "code",
      "source": [
        "negative_index=np.where(findings=='Normal')[0]\n",
        "negative_image_names=image_names[negative_index]\n",
        "for negative_image_name in negative_image_names:\n",
        "    image=cv2.imread(os.path.join('images',negative_image_name))\n",
        "    try:\n",
        "        cv2.imwrite(os.path.join(dataset_path,categories[0],negative_image_name),image)\n",
        "    except Exception as e:\n",
        "        print(e)\n",
        "      "
      ],
      "metadata": {
        "id": "z3TO3ip5Sy8r"
      },
      "execution_count": null,
      "outputs": []
    },
    {
      "cell_type": "code",
      "source": [
        "import cv2,os\n",
        "\n",
        "data_path='/content/gdrive/MyDrive/dataset'\n",
        "categories=os.listdir(data_path)\n",
        "labels=[i for i in range(len(categories))]\n",
        "\n",
        "label_dict=dict(zip(categories,labels)) #empty dictionary\n",
        "\n",
        "print(label_dict)\n",
        "print(categories)\n",
        "print(labels)"
      ],
      "metadata": {
        "colab": {
          "base_uri": "https://localhost:8080/"
        },
        "id": "ILeqgGbtTNVL",
        "outputId": "2f1d9b2e-46c5-4192-f4a2-c6ff5995928a"
      },
      "execution_count": null,
      "outputs": [
        {
          "output_type": "stream",
          "name": "stdout",
          "text": [
            "{'Covid19 Negative': 0, 'Covid19 Positive': 1}\n",
            "['Covid19 Negative', 'Covid19 Positive']\n",
            "[0, 1]\n"
          ]
        }
      ]
    },
    {
      "cell_type": "code",
      "source": [
        "img_size=100\n",
        "data=[]\n",
        "target=[]\n",
        "for category in categories:\n",
        "    folder_path=os.path.join(data_path,category)\n",
        "    img_names=os.listdir(folder_path)\n",
        "        \n",
        "    for img_name in img_names:\n",
        "        img_path=os.path.join(folder_path,img_name)\n",
        "        img=cv2.imread(img_path)\n",
        "\n",
        "        try:\n",
        "            gray=cv2.cvtColor(img,cv2.COLOR_BGR2GRAY)           \n",
        "            #Coverting the image into gray scale\n",
        "            resized=cv2.resize(gray,(img_size,img_size))\n",
        "            #resizing the gray scale into 100x100, since we need a fixed common size for all the images in the dataset\n",
        "            data.append(resized)\n",
        "            target.append(label_dict[category])\n",
        "            #appending the image and the label(categorized) into the list (dataset)\n",
        "\n",
        "        except Exception as e:\n",
        "            print('Exception:',e)\n",
        "            #if any exception rasied, the exception will be printed here. And pass to the next image"
      ],
      "metadata": {
        "id": "QzEOiVbvTUX2"
      },
      "execution_count": null,
      "outputs": []
    },
    {
      "cell_type": "code",
      "source": [
        "import numpy as np\n",
        "\n",
        "data=np.array(data)/255.0\n",
        "data=np.reshape(data,(data.shape[0],img_size,img_size,1))\n",
        "target=np.array(target)\n",
        "\n",
        "from keras.utils import np_utils\n",
        "\n",
        "new_target=np_utils.to_categorical(target)\n",
        "np.save('data',data)\n",
        "np.save('target',new_target)"
      ],
      "metadata": {
        "id": "jIkZrccgTidu"
      },
      "execution_count": null,
      "outputs": []
    },
    {
      "cell_type": "code",
      "source": [
        "data=np.load('data.npy')\n",
        "target=np.load('target.npy')"
      ],
      "metadata": {
        "id": "7dv35vtfTnhC"
      },
      "execution_count": null,
      "outputs": []
    },
    {
      "cell_type": "code",
      "source": [
        "from keras.models import Sequential\n",
        "from keras.layers import Dense,Activation,Flatten\n",
        "from keras.layers import Conv2D,MaxPooling2D,Dropout\n",
        "\n",
        "model=Sequential()\n",
        "\n",
        "model.add(Conv2D(64,(3,3),input_shape=(100,100,1)))\n",
        "model.add(Activation('relu'))\n",
        "model.add(MaxPooling2D(pool_size=(2,2)))\n",
        "#The first CNN layer followed by Relu and MaxPooling layers\n",
        "\n",
        "model.add(Conv2D(32,(3,3)))\n",
        "model.add(Activation('relu'))\n",
        "model.add(MaxPooling2D(pool_size=(2,2)))\n",
        "#The second convolution layer followed by Relu and MaxPooling layers\n",
        "\n",
        "model.add(Flatten())\n",
        "#Flatten layer to stack the output convolutions from second convolution layer\n",
        "model.add(Dropout(0.5))\n",
        "model.add(Dense(1000,activation='relu'))\n",
        "model.add(Dropout(0.5))\n",
        "model.add(Dense(128,activation='relu'))\n",
        "model.add(Dropout(0.5))\n",
        "model.add(Dense(64,activation='relu'))\n",
        "#Dense layer of 64 neurons\n",
        "model.add(Dense(2,activation='softmax'))\n",
        "#The Final layer with two outputs for two categories\n",
        "\n",
        "model.compile(loss='categorical_crossentropy',optimizer='adam',metrics=['accuracy'])"
      ],
      "metadata": {
        "id": "x2o0LN9GTy1K"
      },
      "execution_count": null,
      "outputs": []
    },
    {
      "cell_type": "code",
      "source": [
        "from sklearn.model_selection import train_test_split\n",
        "\n",
        "train_data,test_data,train_target,test_target=train_test_split(data,target,test_size=0.1)"
      ],
      "metadata": {
        "id": "ku0NYMpuT0rK"
      },
      "execution_count": null,
      "outputs": []
    },
    {
      "cell_type": "code",
      "source": [
        "from keras.callbacks import *\n",
        "checkpoint = ModelCheckpoint('model-{epoch:03d}.h5',monitor='val_loss',verbose=0,save_best_only=True,mode='auto',save_weights_only=True)\n",
        "history=model.fit(train_data,train_target,epochs=20,callbacks=[checkpoint],validation_split=0.1)"
      ],
      "metadata": {
        "colab": {
          "base_uri": "https://localhost:8080/"
        },
        "id": "mu4bT5-dT3Hm",
        "outputId": "92815bed-5a19-40d0-a021-f579a6007c74"
      },
      "execution_count": null,
      "outputs": [
        {
          "output_type": "stream",
          "name": "stdout",
          "text": [
            "Epoch 1/20\n",
            "18/18 [==============================] - 1s 40ms/step - loss: 0.5579 - accuracy: 0.7750 - val_loss: 0.6261 - val_accuracy: 0.6613\n",
            "Epoch 2/20\n",
            "18/18 [==============================] - 1s 29ms/step - loss: 0.4866 - accuracy: 0.8076 - val_loss: 0.6022 - val_accuracy: 0.6613\n",
            "Epoch 3/20\n",
            "18/18 [==============================] - 0s 27ms/step - loss: 0.4213 - accuracy: 0.8131 - val_loss: 0.5093 - val_accuracy: 0.7903\n",
            "Epoch 4/20\n",
            "18/18 [==============================] - 0s 19ms/step - loss: 0.3741 - accuracy: 0.8548 - val_loss: 0.6260 - val_accuracy: 0.8226\n",
            "Epoch 5/20\n",
            "18/18 [==============================] - 1s 28ms/step - loss: 0.3699 - accuracy: 0.8693 - val_loss: 0.4547 - val_accuracy: 0.8387\n",
            "Epoch 6/20\n",
            "18/18 [==============================] - 0s 20ms/step - loss: 0.3455 - accuracy: 0.8820 - val_loss: 0.5936 - val_accuracy: 0.8387\n",
            "Epoch 7/20\n",
            "18/18 [==============================] - 0s 19ms/step - loss: 0.2760 - accuracy: 0.9038 - val_loss: 0.5134 - val_accuracy: 0.8387\n",
            "Epoch 8/20\n",
            "18/18 [==============================] - 0s 20ms/step - loss: 0.2930 - accuracy: 0.9093 - val_loss: 0.4694 - val_accuracy: 0.8226\n",
            "Epoch 9/20\n",
            "18/18 [==============================] - 0s 20ms/step - loss: 0.2687 - accuracy: 0.9038 - val_loss: 0.5919 - val_accuracy: 0.8226\n",
            "Epoch 10/20\n",
            "18/18 [==============================] - 0s 19ms/step - loss: 0.2653 - accuracy: 0.9038 - val_loss: 0.5074 - val_accuracy: 0.8226\n",
            "Epoch 11/20\n",
            "18/18 [==============================] - 0s 19ms/step - loss: 0.2701 - accuracy: 0.9201 - val_loss: 0.6319 - val_accuracy: 0.8387\n",
            "Epoch 12/20\n",
            "18/18 [==============================] - 0s 19ms/step - loss: 0.2605 - accuracy: 0.9165 - val_loss: 0.6171 - val_accuracy: 0.8065\n",
            "Epoch 13/20\n",
            "18/18 [==============================] - 0s 19ms/step - loss: 0.2666 - accuracy: 0.9038 - val_loss: 0.6064 - val_accuracy: 0.8548\n",
            "Epoch 14/20\n",
            "18/18 [==============================] - 0s 20ms/step - loss: 0.2295 - accuracy: 0.9056 - val_loss: 0.6069 - val_accuracy: 0.8065\n",
            "Epoch 15/20\n",
            "18/18 [==============================] - 0s 20ms/step - loss: 0.2278 - accuracy: 0.9201 - val_loss: 0.6610 - val_accuracy: 0.8226\n",
            "Epoch 16/20\n",
            "18/18 [==============================] - 0s 19ms/step - loss: 0.2353 - accuracy: 0.9093 - val_loss: 0.7475 - val_accuracy: 0.8226\n",
            "Epoch 17/20\n",
            "18/18 [==============================] - 0s 19ms/step - loss: 0.2412 - accuracy: 0.9093 - val_loss: 0.6880 - val_accuracy: 0.8065\n",
            "Epoch 18/20\n",
            "18/18 [==============================] - 0s 19ms/step - loss: 0.2226 - accuracy: 0.9238 - val_loss: 0.9842 - val_accuracy: 0.8226\n",
            "Epoch 19/20\n",
            "18/18 [==============================] - 0s 20ms/step - loss: 0.2068 - accuracy: 0.9220 - val_loss: 0.8398 - val_accuracy: 0.8226\n",
            "Epoch 20/20\n",
            "18/18 [==============================] - 0s 19ms/step - loss: 0.2226 - accuracy: 0.9183 - val_loss: 0.8453 - val_accuracy: 0.8065\n"
          ]
        }
      ]
    },
    {
      "cell_type": "code",
      "source": [
        "from matplotlib import pyplot as plt\n",
        "\n",
        "plt.plot(history.history['loss'],'r',label='training loss')\n",
        "plt.plot(history.history['val_loss'],label='validation loss')\n",
        "plt.xlabel('# epochs')\n",
        "plt.ylabel('loss')\n",
        "plt.legend()\n",
        "plt.show()"
      ],
      "metadata": {
        "colab": {
          "base_uri": "https://localhost:8080/",
          "height": 279
        },
        "id": "Ytpzsna6bBn8",
        "outputId": "790349ca-14af-419b-bf67-7d54125350c6"
      },
      "execution_count": null,
      "outputs": [
        {
          "output_type": "display_data",
          "data": {
            "text/plain": [
              "<Figure size 432x288 with 1 Axes>"
            ],
            "image/png": "[encoded data removed]"
          },
          "metadata": {
            "needs_background": "light"
          }
        }
      ]
    }
  ]
}